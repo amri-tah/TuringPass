{
 "cells": [
  {
   "cell_type": "code",
   "execution_count": 1,
   "metadata": {},
   "outputs": [
    {
     "name": "stderr",
     "output_type": "stream",
     "text": [
      "WARNING:absl:Compiled the loaded model, but the compiled metrics have yet to be built. `model.compile_metrics` will be empty until you train or evaluate the model.\n"
     ]
    }
   ],
   "source": [
    "from tensorflow.keras.models import load_model\n",
    "import tensorflow as tf\n",
    "import numpy as np\n",
    "from tensorflow.keras import layers\n",
    "from PIL import Image\n",
    "\n",
    "CHARACTERS = ['3', 'S', 'E', 'B', 'G', 'P', 'V', 'j', 'T', 'C', '9', 'F', 'm', \n",
    "              'a', '2', 'A', 'U', 'r', 'h', 'v', 'Z', 'z', 'w', 's', '1', 'R', \n",
    "              '4', 'Y', 'l', '6', 'k', 'O', 'I', 'u', 'N', 't', 'K', 'Q', 'M', \n",
    "              'W', 'X', 'D', 'd', 'b', '8', 'p', 'g', '5', 'y', 'f', 'L', 'q', \n",
    "              'J', 'n', 'i', 'x', 'c', 'H', 'e', '7']\n",
    "\n",
    "# Re-declare StringLookup layer with vocabulary used during training\n",
    "char_to_num = layers.StringLookup(vocabulary=list(CHARACTERS),\n",
    "                                  num_oov_indices=0,\n",
    "                                  mask_token=None)\n",
    "\n",
    "num_to_char = layers.StringLookup(vocabulary=char_to_num.get_vocabulary(), \n",
    "                                  mask_token=None, \n",
    "                                  num_oov_indices=0,\n",
    "                                  invert=True)\n",
    "\n",
    "IMG_WIDTH, IMG_HEIGHT = 150, 40  \n",
    "model = load_model('captcha_model.h5', custom_objects={'StringLookup': char_to_num})\n",
    "\n",
    "\n",
    "def preprocess_image(image_path):\n",
    "    img = tf.io.read_file(image_path)\n",
    "    img = tf.io.decode_jpeg(img, channels=1)\n",
    "    img = tf.image.convert_image_dtype(img, tf.float32)\n",
    "    img = tf.image.resize(img, [IMG_HEIGHT, IMG_WIDTH])\n",
    "    img = tf.transpose(img, perm=[1, 0, 2])\n",
    "    img = tf.expand_dims(img, axis=0) \n",
    "    return img\n",
    "\n",
    "\n",
    "def decode_predictions(preds):\n",
    "    output_text = []\n",
    "    for i in range(preds.shape[1]):\n",
    "        char_index = tf.argmax(preds[0][i])\n",
    "        char = num_to_char(char_index)\n",
    "        output_text.append(char)\n",
    "    return tf.strings.reduce_join(output_text).numpy().decode(\"utf-8\")\n",
    "\n",
    "\n",
    "def predict(image_path):\n",
    "    prediction = model.predict(preprocess_image(image_path))    \n",
    "    return decode_predictions(prediction)"
   ]
  },
  {
   "cell_type": "code",
   "execution_count": 2,
   "metadata": {},
   "outputs": [
    {
     "name": "stdout",
     "output_type": "stream",
     "text": [
      "\u001b[1m1/1\u001b[0m \u001b[32m━━━━━━━━━━━━━━━━━━━━\u001b[0m\u001b[37m\u001b[0m \u001b[1m0s\u001b[0m 144ms/step\n",
      "Predicted text: 1a4lr\n"
     ]
    }
   ],
   "source": [
    "image_path = 'dataset/1a4lr.jpg'  # Replace with your image\n",
    "predicted_text = predict(image_path)\n",
    "print(\"Predicted text:\", predicted_text)"
   ]
  }
 ],
 "metadata": {
  "kernelspec": {
   "display_name": "Python 3",
   "language": "python",
   "name": "python3"
  },
  "language_info": {
   "codemirror_mode": {
    "name": "ipython",
    "version": 3
   },
   "file_extension": ".py",
   "mimetype": "text/x-python",
   "name": "python",
   "nbconvert_exporter": "python",
   "pygments_lexer": "ipython3",
   "version": "3.12.5"
  }
 },
 "nbformat": 4,
 "nbformat_minor": 2
}
